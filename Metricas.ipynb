{
  "nbformat": 4,
  "nbformat_minor": 0,
  "metadata": {
    "colab": {
      "private_outputs": true,
      "provenance": []
    },
    "kernelspec": {
      "name": "python3",
      "display_name": "Python 3"
    },
    "language_info": {
      "name": "python"
    }
  },
  "cells": [
    {
      "cell_type": "markdown",
      "source": [
        "# **Cálculo de Métricas de Avaliação de Aprendizado**"
      ],
      "metadata": {
        "id": "IZRI3gSuC09x"
      }
    },
    {
      "cell_type": "markdown",
      "source": [
        "Este projeto é a parte final do módulo Métricas de Avaliação de Aprendizado do BootCamp Formação Machine Learning Specialist"
      ],
      "metadata": {
        "id": "x_Hn7DcUDmdx"
      }
    },
    {
      "cell_type": "markdown",
      "source": [
        "Quando estamos trabalhando com modelos de classificação devemos levar em consideração diversas métricas que em conjunto nos auxiliarão no processo de avaliação de performance do modelo."
      ],
      "metadata": {
        "id": "ZyYUyL6QC_H5"
      }
    },
    {
      "cell_type": "markdown",
      "source": [
        "[![author](https://img.shields.io/badge/author-evaldojunior-red.svg)](https://www.linkedin.com/in/evaldo-junior-89094244/) [![](https://img.shields.io/badge/python-3.9+-blue.svg)](https://www.python.org/downloads/release/python-365/) [![GPLv3 license](https://img.shields.io/badge/License-GPLv3-blue.svg)](http://perso.crans.org/besson/LICENSE.html)"
      ],
      "metadata": {
        "id": "ZHP0rlIyDjeI"
      }
    },
    {
      "cell_type": "markdown",
      "source": [
        "## Sobre os Dados"
      ],
      "metadata": {
        "id": "iIMN83CHEPFz"
      }
    },
    {
      "cell_type": "code",
      "execution_count": null,
      "metadata": {
        "id": "ljCHffbTCxM0"
      },
      "outputs": [],
      "source": [
        "# !pip install -q tensorflow-gpu==2.0.0"
      ]
    },
    {
      "cell_type": "code",
      "source": [
        "from tensorflow.keras import datasets, layers, models\n",
        "import matplotlib.pyplot as plt\n",
        "import tensorflow as tf\n",
        "\n",
        "import numpy as np\n",
        "import seaborn as sns\n",
        "import pandas as pd\n",
        "\n",
        "sns.set()"
      ],
      "metadata": {
        "id": "COlX91etEROd"
      },
      "execution_count": null,
      "outputs": []
    },
    {
      "cell_type": "code",
      "source": [
        "(train_images, train_labels), (test_images, test_labels) = datasets.mnist.load_data()\n",
        "\n",
        "train_images = train_images.reshape((60000, 28, 28, 1))\n",
        "test_images = test_images.reshape((10000, 28, 28, 1))\n",
        "\n",
        "train_images, test_images = train_images / 255.0, test_images / 255.0\n",
        "\n",
        "classes=[0,1,2,3,4,5,6,7,8,9]"
      ],
      "metadata": {
        "id": "NWE2UlGNEjTm"
      },
      "execution_count": null,
      "outputs": []
    },
    {
      "cell_type": "code",
      "source": [
        "%load_ext tensorboard\n",
        "logdir='log'"
      ],
      "metadata": {
        "id": "e7tMTYusE_i6"
      },
      "execution_count": null,
      "outputs": []
    },
    {
      "cell_type": "code",
      "source": [
        "model = models.Sequential()\n",
        "model.add(layers.Conv2D(32, (3, 3), activation='relu', input_shape=(28, 28, 1)))\n",
        "model.add(layers.MaxPooling2D((2, 2)))\n",
        "model.add(layers.Conv2D(64, (3, 3), activation='relu'))\n",
        "model.add(layers.MaxPooling2D((2, 2)))\n",
        "model.add(layers.Conv2D(64, (3, 3), activation='relu'))\n",
        "\n",
        "model.add(layers.Flatten())\n",
        "model.add(layers.Dense(64, activation='relu'))\n",
        "model.add(layers.Dense(10, activation='softmax'))"
      ],
      "metadata": {
        "id": "6q37vZolEwvw"
      },
      "execution_count": null,
      "outputs": []
    },
    {
      "cell_type": "code",
      "source": [
        "tensorboard_callback = tf.keras.callbacks.TensorBoard(logdir, histogram_freq=1)"
      ],
      "metadata": {
        "id": "RkECUOkXE5O0"
      },
      "execution_count": null,
      "outputs": []
    },
    {
      "cell_type": "code",
      "source": [
        "model = models.Sequential()\n",
        "model.add(layers.Conv2D(32, (3, 3), activation='relu', input_shape=(28, 28, 1)))\n",
        "model.add(layers.MaxPooling2D((2, 2)))\n",
        "model.add(layers.Conv2D(64, (3, 3), activation='relu'))\n",
        "model.add(layers.MaxPooling2D((2, 2)))\n",
        "model.add(layers.Conv2D(64, (3, 3), activation='relu'))\n",
        "\n",
        "model.add(layers.Flatten())\n",
        "model.add(layers.Dense(64, activation='relu'))\n",
        "model.add(layers.Dense(10, activation='softmax'))"
      ],
      "metadata": {
        "id": "IhobvDZrE9l3"
      },
      "execution_count": null,
      "outputs": []
    },
    {
      "cell_type": "code",
      "source": [
        "tensorboard_callback = tf.keras.callbacks.TensorBoard(logdir, histogram_freq=1)"
      ],
      "metadata": {
        "id": "dL58d1QRFOTG"
      },
      "execution_count": null,
      "outputs": []
    },
    {
      "cell_type": "code",
      "source": [
        "model.compile(optimizer='adam',\n",
        "              loss='sparse_categorical_crossentropy',\n",
        "              metrics=['accuracy'])\n",
        "\n",
        "model.fit(x=train_images, \n",
        "            y=train_labels, \n",
        "            epochs=1, \n",
        "            validation_data=(test_images, test_labels))"
      ],
      "metadata": {
        "id": "WS5dgYPVFTBj"
      },
      "execution_count": null,
      "outputs": []
    },
    {
      "cell_type": "code",
      "source": [
        "y_true=test_labels\n",
        "y_pred=model.predict_classes(test_images)\n",
        "classes=[0,1,2,3,4,5,6,7,8,9]"
      ],
      "metadata": {
        "id": "b40xcd6hFWGI"
      },
      "execution_count": null,
      "outputs": []
    },
    {
      "cell_type": "markdown",
      "source": [
        "## Gerando a Matriz de Confusão"
      ],
      "metadata": {
        "id": "w7Qv56fSGGA6"
      }
    },
    {
      "cell_type": "code",
      "source": [
        "con_mat = tf.math.confusion_matrix(labels=y_true, predictions=y_pred).numpy()\n",
        "con_mat_norm = np.around(con_mat.astype('float') / con_mat.sum(axis=1)[:, np.newaxis], decimals=2)\n",
        "\n",
        "con_mat_df = pd.DataFrame(con_mat_norm,\n",
        "                     index = classes, \n",
        "                     columns = classes)\n",
        "\n",
        "figure = plt.figure(figsize=(8, 8))\n",
        "sns.heatmap(con_mat_df, annot=True,cmap=plt.cm.Blues)\n",
        "plt.tight_layout()\n",
        "plt.ylabel('True label')\n",
        "plt.xlabel('Predicted label')\n",
        "plt.show()"
      ],
      "metadata": {
        "id": "hflmp026FtoM"
      },
      "execution_count": null,
      "outputs": []
    },
    {
      "cell_type": "code",
      "source": [
        "FP = con_mat.sum(axis=0) - np.diag(con_mat) \n",
        "FN = con_mat.sum(axis=1) - np.diag(con_mat)\n",
        "VP = np.diag(con_mat)\n",
        "VN = con_mat.sum() - (FP + FN + VP)\n",
        "total_itens = 10000\n",
        "\n",
        "\n",
        "acuracia =  (VP + VN)/(FP + FN + VP + VN)\n",
        "sensibilidade = VP/(VP+FN)\n",
        "especificidade = VN/(VN+FP)\n",
        "precisao = VP/(VP+FP)\n",
        "f_score = 2 * (precisao * sensibilidade) / (precisao + sensibilidade)\n",
        "\n",
        "\n"
      ],
      "metadata": {
        "id": "folqUmRQFtjU"
      },
      "execution_count": null,
      "outputs": []
    },
    {
      "cell_type": "markdown",
      "source": [
        "## **Sensibildiade ou Recall**\n",
        "\n",
        "Métrica que avalia a capacidade do método de detectar com sucesso resultados classificados como positivos. "
      ],
      "metadata": {
        "id": "I1cCTf-6HdJW"
      }
    },
    {
      "cell_type": "markdown",
      "source": [
        "<p align=\"center\">\n",
        "  <img src=\"Recall.PNG\" >\n",
        "</p>"
      ],
      "metadata": {
        "id": "tDo63GbYI6FC"
      }
    },
    {
      "cell_type": "code",
      "source": [
        "print(f'Sensibilidade {sensibilidade * 100}')"
      ],
      "metadata": {
        "id": "-urh4rAAFtgG"
      },
      "execution_count": null,
      "outputs": []
    },
    {
      "cell_type": "markdown",
      "source": [
        "## **Especificidade**\n",
        "\n",
        "Avalia a capaciade do método de detectar resultados negativos."
      ],
      "metadata": {
        "id": "1H92liPHK3PS"
      }
    },
    {
      "cell_type": "markdown",
      "source": [
        "<p align=\"center\">\n",
        "  <img src=\"Recall.PNG\" >\n",
        "</p>"
      ],
      "metadata": {
        "id": "_5ya4u3kLYfK"
      }
    },
    {
      "cell_type": "code",
      "source": [
        "print(f'Especificidade {VN / (FP + VN)}')"
      ],
      "metadata": {
        "id": "bjJaW2RgHRhq"
      },
      "execution_count": null,
      "outputs": []
    },
    {
      "cell_type": "markdown",
      "source": [
        "## **Acurácia**\n",
        "\n",
        "Utilizada como a base da matriz de confusão"
      ],
      "metadata": {
        "id": "ctbtEv4HL4Lq"
      }
    },
    {
      "cell_type": "markdown",
      "source": [
        "<p align=\"center\">\n",
        "  <img src=\"Recall.PNG\" >\n",
        "</p>"
      ],
      "metadata": {
        "id": "098gV2AvL_NK"
      }
    },
    {
      "cell_type": "code",
      "source": [
        "print(f'Acurácia {(VP + VN) / (VP + FN + VN + FP)}')"
      ],
      "metadata": {
        "id": "Gj7j0W6VLa6r"
      },
      "execution_count": null,
      "outputs": []
    },
    {
      "cell_type": "markdown",
      "source": [
        "## **Precisão**\n",
        "\n",
        "Métrica que avalia a de verdadeiros positivos sobre a soma de todos os valores positivos"
      ],
      "metadata": {
        "id": "V4PXw0dCMl00"
      }
    },
    {
      "cell_type": "markdown",
      "source": [
        "<p align=\"center\">\n",
        "  <img src=\"Recall.PNG\" >\n",
        "</p>"
      ],
      "metadata": {
        "id": "EhJ22bMAMyqr"
      }
    },
    {
      "cell_type": "code",
      "source": [
        "print(f'Precisão { VP / (VP + FP)}')"
      ],
      "metadata": {
        "id": "j9kQdKMgMyGC"
      },
      "execution_count": null,
      "outputs": []
    },
    {
      "cell_type": "markdown",
      "source": [
        "## **F Score**\n",
        "\n",
        "Média armonica calculada com base na precisão e na renovação\n"
      ],
      "metadata": {
        "id": "vVbfOnfoNGYk"
      }
    },
    {
      "cell_type": "markdown",
      "source": [
        "<p align=\"center\">\n",
        "  <img src=\"Recall.PNG\" >\n",
        "</p>"
      ],
      "metadata": {
        "id": "LCoQE71pNSYD"
      }
    },
    {
      "cell_type": "code",
      "source": [
        "print(f'F-Score {2 * ((precisao * sensibilidade) / (precisao + sensibilidade))}')"
      ],
      "metadata": {
        "id": "Dg5jYE3gNA99"
      },
      "execution_count": null,
      "outputs": []
    },
    {
      "cell_type": "code",
      "source": [],
      "metadata": {
        "id": "djyKqbfiNyXx"
      },
      "execution_count": null,
      "outputs": []
    }
  ]
}